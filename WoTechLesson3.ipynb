{
  "nbformat": 4,
  "nbformat_minor": 0,
  "metadata": {
    "colab": {
      "provenance": [],
      "authorship_tag": "ABX9TyNhAHqa1zI+1ypCxk+rUWfN",
      "include_colab_link": true
    },
    "kernelspec": {
      "name": "python3",
      "display_name": "Python 3"
    },
    "language_info": {
      "name": "python"
    }
  },
  "cells": [
    {
      "cell_type": "markdown",
      "metadata": {
        "id": "view-in-github",
        "colab_type": "text"
      },
      "source": [
        "<a href=\"https://colab.research.google.com/github/LailaDuffy/BubbleSortAlgorithm/blob/master/WoTechLesson3.ipynb\" target=\"_parent\"><img src=\"https://colab.research.google.com/assets/colab-badge.svg\" alt=\"Open In Colab\"/></a>"
      ]
    },
    {
      "cell_type": "code",
      "execution_count": 2,
      "metadata": {
        "colab": {
          "base_uri": "https://localhost:8080/"
        },
        "id": "FW6N1J8gYfvR",
        "outputId": "e2bbbf70-82b9-4d89-9400-e1b23e62b152"
      },
      "outputs": [
        {
          "output_type": "stream",
          "name": "stdout",
          "text": [
            "Good morning!\n",
            "14\n"
          ]
        }
      ],
      "source": [
        "# comment\n",
        "this_is_a_greeting = \"Good morning!\"\n",
        "print(this_is_a_greeting)\n",
        "\n",
        "# variable naming - use snake_case, cannot start the name with a number\n",
        "greeting = 14 # number value assigned to the same variable\n",
        "print(greeting)\n"
      ]
    },
    {
      "cell_type": "code",
      "source": [
        "name = \"Anna\" #text/string\n",
        "surname = \"Johnson\" #text/string\n",
        "age = 35 #int\n",
        "occupation = \"programmer\" #text/string\n",
        "university_graduate = False #bool\n",
        "height = 172.23 #float\n",
        "print(\"Name: \" + name, surname, age, occupation, university_graduate, height)\n",
        "print(f\"Full name: {name} {surname}\\nOccupation: {occupation}\\nUni degree: {university_graduate}\\nHeight: {height}\")"
      ],
      "metadata": {
        "colab": {
          "base_uri": "https://localhost:8080/"
        },
        "id": "w2tJnFuLfK5t",
        "outputId": "47a8a220-430f-4a39-cfab-1ea4dce1a758"
      },
      "execution_count": 7,
      "outputs": [
        {
          "output_type": "stream",
          "name": "stdout",
          "text": [
            "Name: Anna Johnson 35 programmer False 172.23\n",
            "Full name: Anna Johnson\n",
            "Occupation: programmer\n",
            "Uni degree: False\n",
            "Height: 172.23\n"
          ]
        }
      ]
    },
    {
      "cell_type": "code",
      "source": [
        "# We are preparing for a party\n",
        "guest1 = \"Anna\"\n",
        "guest2 = \"John\"\n",
        "guest3 = \"Jenny\"\n",
        "\n",
        "print(guest1, guest2, guest3)\n",
        "\n",
        "guest_list = ['Anna', 'John', 'Jenny', 'Kerli', 'Madara'] # Strings can be defined with \"\" or '', in Python mostly used ''\n",
        "print(guest_list)\n",
        "\n",
        "for guest in guest_list:\n",
        "  print(guest)"
      ],
      "metadata": {
        "colab": {
          "base_uri": "https://localhost:8080/"
        },
        "id": "7457NGZikPGM",
        "outputId": "fb4014ea-0f85-4815-deca-83faa85553c2"
      },
      "execution_count": 11,
      "outputs": [
        {
          "output_type": "stream",
          "name": "stdout",
          "text": [
            "Anna John Jenny\n",
            "['Anna', 'John', 'Jenny', 'Kerli', 'Madara']\n",
            "Anna\n",
            "John\n",
            "Jenny\n",
            "Kerli\n",
            "Madara\n"
          ]
        }
      ]
    },
    {
      "cell_type": "code",
      "source": [
        "var_2 = 100\n"
      ],
      "metadata": {
        "id": "DJh4LfbMnlCd"
      },
      "execution_count": 3,
      "outputs": []
    },
    {
      "cell_type": "code",
      "source": [
        "print(var_2)"
      ],
      "metadata": {
        "colab": {
          "base_uri": "https://localhost:8080/"
        },
        "id": "h44LL2mWnpzB",
        "outputId": "09a06c57-2ea6-4ec1-ae86-4288fae50283"
      },
      "execution_count": 4,
      "outputs": [
        {
          "output_type": "stream",
          "name": "stdout",
          "text": [
            "100\n"
          ]
        }
      ]
    },
    {
      "cell_type": "code",
      "source": [
        "name = 'trees ' * 10 # text can be multiplied to print as many times\n",
        "print(name, end = '') # end = '' defines the end value in the print"
      ],
      "metadata": {
        "colab": {
          "base_uri": "https://localhost:8080/"
        },
        "id": "8C2w1jEvoJSu",
        "outputId": "62218497-bf42-4af4-e90a-a9859255b249"
      },
      "execution_count": 9,
      "outputs": [
        {
          "output_type": "stream",
          "name": "stdout",
          "text": [
            "trees trees trees trees trees trees trees trees trees trees ."
          ]
        }
      ]
    },
    {
      "cell_type": "code",
      "source": [
        "name = input('Enter your name please: ') # requires user input and saves it as a variable\n",
        "print(f'Hello, {name}, nice to meet you!') # f for formatted, called f-string\n",
        "\n",
        "print('Hello, ', name, 'nice to meet you!') # formatting without f-string"
      ],
      "metadata": {
        "colab": {
          "base_uri": "https://localhost:8080/"
        },
        "id": "wlBVGENko2i9",
        "outputId": "32cfe299-7833-4f1b-8e6a-21d38f5d1a32"
      },
      "execution_count": 14,
      "outputs": [
        {
          "output_type": "stream",
          "name": "stdout",
          "text": [
            "Enter your name please: Lonny\n",
            "Hello, Lonny, nice to meet you!\n",
            "Hello,  Lonny nice to meet you!\n"
          ]
        }
      ]
    },
    {
      "cell_type": "code",
      "source": [
        "print(f'Hello {name}, I would like to read the book \"Hamlet\"') # f-string with '' does not work if there is text in quot marks, for example 'Hamlet', then need to use double quot marks \"Hamlet\""
      ],
      "metadata": {
        "colab": {
          "base_uri": "https://localhost:8080/"
        },
        "id": "BeHCgMVfp7vP",
        "outputId": "23655f32-e222-4524-bc8e-aea75376b906"
      },
      "execution_count": 16,
      "outputs": [
        {
          "output_type": "stream",
          "name": "stdout",
          "text": [
            "Hello Lonny, I would like to read the book \"Hamlet\"\n"
          ]
        }
      ]
    },
    {
      "cell_type": "code",
      "source": [
        "print(\"Anna\", \"Johnson\")\n",
        "print(\"Anna Johnson\") # same result\n",
        "\n",
        "name = \"Anna\"\n",
        "surname = 'Johnson'\n",
        "print(name, surname) # stores values in variables and transfers values to functions\n",
        "print('Hello', name)\n",
        "print('Hello', name, '!') # not great casuse ! doesn't need space before\n",
        "print(f'Hello {name}!') # using f-string fixes the space issue before !\n",
        "print('Hello', name, end='!') # works but is longer to type, and end='' removes the new line character \\n\n",
        "print('Hello', name, end='!\\n') # now the following text is a new line\n",
        "print(f'{name} wants to read \"Hamlet\"') # either use '' for f-string and \"\" for quot name OR \"\" for f-string and '' for quot name"
      ],
      "metadata": {
        "colab": {
          "base_uri": "https://localhost:8080/"
        },
        "id": "jDH8L7yysgDg",
        "outputId": "209b8e15-732a-4ce1-acc1-4d866a04106b"
      },
      "execution_count": 3,
      "outputs": [
        {
          "output_type": "stream",
          "name": "stdout",
          "text": [
            "Anna Johnson\n",
            "Anna Johnson\n",
            "Anna Johnson\n",
            "Hello Anna\n",
            "Hello Anna !\n",
            "Hello Anna!\n",
            "Hello Anna!Hello Anna!\n",
            "Anna wants to read \"Hamlet\"\n"
          ]
        }
      ]
    },
    {
      "cell_type": "code",
      "source": [],
      "metadata": {
        "id": "lZzJPE3kxswJ"
      },
      "execution_count": null,
      "outputs": []
    }
  ]
}